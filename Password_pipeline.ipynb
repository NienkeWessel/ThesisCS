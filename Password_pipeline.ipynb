{
 "cells": [
  {
   "cell_type": "markdown",
   "id": "1086f9b2",
   "metadata": {},
   "source": [
    "# Steps\n",
    "\n",
    "1. Prepare data\n",
    "2. "
   ]
  },
  {
   "cell_type": "code",
   "execution_count": 12,
   "id": "92234dd0",
   "metadata": {},
   "outputs": [],
   "source": [
    "import torch\n",
    "import torch.nn.functional as F\n",
    "import numpy as np"
   ]
  },
  {
   "cell_type": "code",
   "execution_count": 2,
   "id": "cfa7f6f3",
   "metadata": {},
   "outputs": [],
   "source": [
    "n_epochs = 5\n",
    "lr = 0.01\n",
    "n_folds = 5\n",
    "lstm_input_size = 32\n",
    "hidden_state_size = 256\n",
    "n_layers = 2\n",
    "dropout = 0.125\n",
    "bidirectional = True\n",
    "batch_size = 64\n",
    "num_sequence_layers = 2\n",
    "output_dim = 2                       # !!!!!!!!!!!!!!!!!!!!!!!!\n",
    "num_time_steps = 30                 # !!!!!!!!!!!!!!\n",
    "rnn_type = 'LSTM'\n",
    "\n",
    "device = torch.device('cuda:0') if torch.cuda.is_available() else torch.device(\"cpu\")\n"
   ]
  },
  {
   "cell_type": "code",
   "execution_count": 3,
   "id": "8d02f029",
   "metadata": {},
   "outputs": [],
   "source": [
    "from LSTM import Bi_RNN\n",
    "from build_datasets import CharacterDataset\n",
    "from train import accuracy"
   ]
  },
  {
   "cell_type": "code",
   "execution_count": 6,
   "id": "62d72428",
   "metadata": {
    "scrolled": true
   },
   "outputs": [
    {
     "data": {
      "text/plain": [
       "Bi_RNN(\n",
       "  (embedding): Embedding(101, 32, padding_idx=100)\n",
       "  (lstm): LSTM(32, 256, num_layers=2, batch_first=True, dropout=0.125, bidirectional=True)\n",
       "  (linear1): Linear(in_features=512, out_features=128, bias=True)\n",
       "  (linear2): Linear(in_features=128, out_features=8, bias=True)\n",
       "  (linear3): Linear(in_features=8, out_features=2, bias=True)\n",
       "  (tanh): Tanh()\n",
       "  (maxpool): MaxPool1d(kernel_size=32, stride=32, padding=0, dilation=1, ceil_mode=False)\n",
       "  (dropout): Dropout(p=0.125, inplace=False)\n",
       ")"
      ]
     },
     "execution_count": 6,
     "metadata": {},
     "output_type": "execute_result"
    }
   ],
   "source": [
    "model = Bi_RNN(lstm_input_size, hidden_state_size, batch_size=batch_size, output_dim=output_dim, num_layers=num_sequence_layers, rnn_type=rnn_type)\n",
    "model.load_state_dict(torch.load(\"LSTM_trained_15000words_8epochs\"))\n",
    "model.eval()"
   ]
  },
  {
   "cell_type": "code",
   "execution_count": 7,
   "id": "0fca578e",
   "metadata": {},
   "outputs": [],
   "source": [
    "from readdata import read_passwords"
   ]
  },
  {
   "cell_type": "code",
   "execution_count": 8,
   "id": "91a6dd8f",
   "metadata": {},
   "outputs": [],
   "source": [
    "def pytorch_predict(model, test_loader, device):\n",
    "    model.eval()\n",
    "    \n",
    "    all_outputs = torch.tensor([], device=device)\n",
    "    \n",
    "    # deactivate autograd engine to reduce memory usage and increase speed\n",
    "    with torch.no_grad():\n",
    "        for data in test_loader:\n",
    "            inputs = [i.to(device) for i in data[:-1]]\n",
    "            \n",
    "            outputs = model(*inputs)\n",
    "            all_outputs = torch.cat((all_outputs, outputs), 0)\n",
    "    #print(all_outputs)\n",
    "    _, y_pred = torch.max(all_outputs, 1)\n",
    "    y_pred = y_pred.cpu().numpy()\n",
    "    y_pred_prob = F.softmax(all_outputs, dim=1).cpu().numpy()\n",
    "    \n",
    "    return y_pred, y_pred_prob"
   ]
  },
  {
   "cell_type": "code",
   "execution_count": 9,
   "id": "217d4d9c",
   "metadata": {},
   "outputs": [],
   "source": [
    "filename = '10-million-password-list-top-1000000.txt'\n",
    "\n",
    "x, _ = read_passwords(filename, 0, 10000)\n",
    "y = torch.zeros(len(x), 2)\n",
    "data = CharacterDataset(x, y)\n",
    "data_loader = torch.utils.data.DataLoader(data, batch_size=batch_size, shuffle=False, drop_last = True)\n",
    "y_pred, y_pred_prob = pytorch_predict(model, data_loader, device)"
   ]
  },
  {
   "cell_type": "code",
   "execution_count": 10,
   "id": "a27249ee",
   "metadata": {},
   "outputs": [
    {
     "name": "stdout",
     "output_type": "stream",
     "text": [
      "[0 1 0 ... 1 1 1]\n",
      "[[9.9979848e-01 2.0151827e-04]\n",
      " [4.3495941e-01 5.6504065e-01]\n",
      " [9.9994445e-01 5.5513217e-05]\n",
      " ...\n",
      " [4.6404362e-01 5.3595638e-01]\n",
      " [1.9711031e-01 8.0288965e-01]\n",
      " [3.4972817e-01 6.5027183e-01]]\n"
     ]
    }
   ],
   "source": [
    "print(y_pred)\n",
    "print(y_pred_prob)"
   ]
  },
  {
   "cell_type": "code",
   "execution_count": 13,
   "id": "a278693b",
   "metadata": {},
   "outputs": [
    {
     "data": {
      "text/plain": [
       "0.42357772435897434"
      ]
     },
     "execution_count": 13,
     "metadata": {},
     "output_type": "execute_result"
    }
   ],
   "source": [
    "np.mean(y_pred)"
   ]
  },
  {
   "cell_type": "code",
   "execution_count": 34,
   "id": "a12729a2",
   "metadata": {},
   "outputs": [
    {
     "name": "stdout",
     "output_type": "stream",
     "text": [
      "Nr of passwords: 10000\n",
      "Nr of words: 10000\n"
     ]
    }
   ],
   "source": [
    "from readdata import loaddata\n",
    "\n",
    "languages = ['English', 'Spanish', 'Dutch', 'Arabic', 'Chinese']\n",
    "lang_files = {\n",
    "    'English' : \"eng_news_2020_1M-words.txt\",\n",
    "    'Spanish' : \"spa_news_2020_1M-words.txt\"\n",
    "}\n",
    "\n",
    "lang_split = {\n",
    "    'English' : 1.0,\n",
    "    #'Spanish' : 0.0\n",
    "}\n",
    "\n",
    "pw_filename = \"10-million-password-list-top-1000000.txt\"\n",
    "text_filename = \"eng_news_2020_1M-words.txt\"\n",
    "comp_nr_lines = 10\n",
    "nr_lines = 10000\n",
    "\n",
    "passwords, words, comparison_pw = loaddata(pw_filename, languages, lang_files, lang_split, comp_nr_lines, nr_lines)\n",
    "all_words = passwords + words\n",
    "\n",
    "def create_feature_labels(passwords, words):\n",
    "    return np.concatenate((np.ones(len(passwords)), np.zeros(len(words))), axis=0)\n",
    "\n",
    "def create_nn_labels(passwords, words):\n",
    "    return torch.hstack((torch.concatenate((torch.ones((1,len(passwords))), torch.zeros(1,len(words))), axis=0),\n",
    "                         torch.concatenate((torch.zeros((1,len(passwords))), torch.ones((1,len(words)))), axis=0)))\n",
    "\n",
    "labels_nn = create_nn_labels(passwords, words)\n",
    "labels_features = create_feature_labels(passwords, words)"
   ]
  },
  {
   "cell_type": "code",
   "execution_count": 41,
   "id": "73e2d118",
   "metadata": {},
   "outputs": [
    {
     "data": {
      "text/plain": [
       "32"
      ]
     },
     "execution_count": 41,
     "metadata": {},
     "output_type": "execute_result"
    }
   ],
   "source": [
    "batch_size-(nr_lines*2)%batch_size"
   ]
  },
  {
   "cell_type": "code",
   "execution_count": 35,
   "id": "764e1ad2",
   "metadata": {},
   "outputs": [],
   "source": [
    "x = np.array(all_words).flatten()\n",
    "y = torch.transpose(labels_nn, 0, 1)\n",
    "data = CharacterDataset(x, y)\n",
    "data_loader = torch.utils.data.DataLoader(data, batch_size=batch_size, shuffle=False, drop_last = True)\n",
    "y_pred, y_pred_prob = pytorch_predict(model, data_loader, device)"
   ]
  },
  {
   "cell_type": "code",
   "execution_count": 46,
   "id": "be45ab2f",
   "metadata": {},
   "outputs": [
    {
     "name": "stdout",
     "output_type": "stream",
     "text": [
      "0.35518644352166434\n",
      "0.2301181891025641\n"
     ]
    }
   ],
   "source": [
    "from sklearn.metrics import f1_score, accuracy_score\n",
    "slic = -((nr_lines*2)%batch_size)\n",
    "print(f1_score(y_pred, labels_features[:slic]))\n",
    "print(accuracy_score(y_pred, labels_features[:slic]))"
   ]
  },
  {
   "cell_type": "code",
   "execution_count": null,
   "id": "96dbb6c7",
   "metadata": {},
   "outputs": [],
   "source": []
  }
 ],
 "metadata": {
  "kernelspec": {
   "display_name": "jupyternotebookenvnew",
   "language": "python",
   "name": "jupyternotebookenvnew"
  },
  "language_info": {
   "codemirror_mode": {
    "name": "ipython",
    "version": 3
   },
   "file_extension": ".py",
   "mimetype": "text/x-python",
   "name": "python",
   "nbconvert_exporter": "python",
   "pygments_lexer": "ipython3",
   "version": "3.10.12"
  }
 },
 "nbformat": 4,
 "nbformat_minor": 5
}
